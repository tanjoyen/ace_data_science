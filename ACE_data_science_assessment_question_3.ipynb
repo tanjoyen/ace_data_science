{
  "nbformat": 4,
  "nbformat_minor": 0,
  "metadata": {
    "colab": {
      "name": "ACE data science assessment - question 3.ipynb",
      "provenance": [],
      "collapsed_sections": []
    },
    "kernelspec": {
      "name": "python3",
      "display_name": "Python 3"
    },
    "language_info": {
      "name": "python"
    }
  },
  "cells": [
    {
      "cell_type": "code",
      "metadata": {
        "colab": {
          "base_uri": "https://localhost:8080/",
          "height": 120
        },
        "id": "38QYvKFQO91z",
        "outputId": "6f7b8085-c206-4295-a61d-ac0d85e91443"
      },
      "source": [
        "# import text and convert to lower case\n",
        "Text = \"As a term, data analytics predominantly refers to an assortment of applications, from basic business intelligence (BI), reporting and online analytical processing (OLAP) to various forms of advanced analytics. In that sense, it's similar in nature to business analytics, another umbrella term for approaches to analyzing data -- with the difference that the latter is oriented to business uses, while data analytics has a broader focus. The expansive view of the term isn't universal, though: In some cases, people use data analytics specifically to mean advanced analytics, treating BI as a separate category. Data analytics initiatives can help businesses increase revenues, improve operational efficiency, optimize marketing campaigns and customer service efforts, respond more quickly to emerging market trends and gain a competitive edge over rivals -- all with the ultimate goal of boosting business performance. Depending on the particular application, the data that's analyzed can consist of either historical records or new information that has been processed for real-time analytics uses. In addition, it can come from a mix of internal systems and external data sources. At a high level, data analytics methodologies include exploratory data analysis (EDA), which aims to find patterns and relationships in data, and confirmatory data analysis (CDA), which applies statistical techniques to determine whether hypotheses about a data set are true or false. EDA is often compared to detective work, while CDA is akin to the work of a judge or jury during a court trial -- a distinction first drawn by statistician John W. Tukey in his 1977 book Exploratory Data Analysis. Data analytics can also be separated into quantitative data analysis and qualitative data analysis. The former involves analysis of numerical data with quantifiable variables that can be compared or measured statistically. The qualitative approach is more interpretive -- it focuses on understanding the content of non-numerical data like text, images, audio and video, including common phrases, themes and points of view. \"\n",
        "text = Text.lower()\n",
        "text"
      ],
      "execution_count": null,
      "outputs": [
        {
          "output_type": "execute_result",
          "data": {
            "application/vnd.google.colaboratory.intrinsic+json": {
              "type": "string"
            },
            "text/plain": [
              "\"as a term, data analytics predominantly refers to an assortment of applications, from basic business intelligence (bi), reporting and online analytical processing (olap) to various forms of advanced analytics. in that sense, it's similar in nature to business analytics, another umbrella term for approaches to analyzing data -- with the difference that the latter is oriented to business uses, while data analytics has a broader focus. the expansive view of the term isn't universal, though: in some cases, people use data analytics specifically to mean advanced analytics, treating bi as a separate category. data analytics initiatives can help businesses increase revenues, improve operational efficiency, optimize marketing campaigns and customer service efforts, respond more quickly to emerging market trends and gain a competitive edge over rivals -- all with the ultimate goal of boosting business performance. depending on the particular application, the data that's analyzed can consist of either historical records or new information that has been processed for real-time analytics uses. in addition, it can come from a mix of internal systems and external data sources. at a high level, data analytics methodologies include exploratory data analysis (eda), which aims to find patterns and relationships in data, and confirmatory data analysis (cda), which applies statistical techniques to determine whether hypotheses about a data set are true or false. eda is often compared to detective work, while cda is akin to the work of a judge or jury during a court trial -- a distinction first drawn by statistician john w. tukey in his 1977 book exploratory data analysis. data analytics can also be separated into quantitative data analysis and qualitative data analysis. the former involves analysis of numerical data with quantifiable variables that can be compared or measured statistically. the qualitative approach is more interpretive -- it focuses on understanding the content of non-numerical data like text, images, audio and video, including common phrases, themes and points of view. \""
            ]
          },
          "metadata": {
            "tags": []
          },
          "execution_count": 192
        }
      ]
    },
    {
      "cell_type": "code",
      "metadata": {
        "id": "O8fX7BHUPgco"
      },
      "source": [
        "# import needed libraries\n",
        "import string \n",
        "import nltk\n",
        "nltk.download('punkt')\n",
        "from collections import Counter"
      ],
      "execution_count": null,
      "outputs": []
    },
    {
      "cell_type": "code",
      "metadata": {
        "colab": {
          "base_uri": "https://localhost:8080/"
        },
        "id": "NfZhvHkqTI4m",
        "outputId": "01c36d6b-d961-4841-ba8c-cdcf9d3daf00"
      },
      "source": [
        "# to split text into lines with fullstop as the delimiter\n",
        "lines = text.split(sep='.')\n",
        "\n",
        "# to keep only lines with words\n",
        "lines = lines[:-1]\n",
        "lines"
      ],
      "execution_count": null,
      "outputs": [
        {
          "output_type": "execute_result",
          "data": {
            "text/plain": [
              "['as a term, data analytics predominantly refers to an assortment of applications, from basic business intelligence (bi), reporting and online analytical processing (olap) to various forms of advanced analytics',\n",
              " \" in that sense, it's similar in nature to business analytics, another umbrella term for approaches to analyzing data -- with the difference that the latter is oriented to business uses, while data analytics has a broader focus\",\n",
              " \" the expansive view of the term isn't universal, though: in some cases, people use data analytics specifically to mean advanced analytics, treating bi as a separate category\",\n",
              " ' data analytics initiatives can help businesses increase revenues, improve operational efficiency, optimize marketing campaigns and customer service efforts, respond more quickly to emerging market trends and gain a competitive edge over rivals -- all with the ultimate goal of boosting business performance',\n",
              " \" depending on the particular application, the data that's analyzed can consist of either historical records or new information that has been processed for real-time analytics uses\",\n",
              " ' in addition, it can come from a mix of internal systems and external data sources',\n",
              " ' at a high level, data analytics methodologies include exploratory data analysis (eda), which aims to find patterns and relationships in data, and confirmatory data analysis (cda), which applies statistical techniques to determine whether hypotheses about a data set are true or false',\n",
              " ' eda is often compared to detective work, while cda is akin to the work of a judge or jury during a court trial -- a distinction first drawn by statistician john w',\n",
              " ' tukey in his 1977 book exploratory data analysis',\n",
              " ' data analytics can also be separated into quantitative data analysis and qualitative data analysis',\n",
              " ' the former involves analysis of numerical data with quantifiable variables that can be compared or measured statistically',\n",
              " ' the qualitative approach is more interpretive -- it focuses on understanding the content of non-numerical data like text, images, audio and video, including common phrases, themes and points of view']"
            ]
          },
          "metadata": {
            "tags": []
          },
          "execution_count": 119
        }
      ]
    },
    {
      "cell_type": "code",
      "metadata": {
        "colab": {
          "base_uri": "https://localhost:8080/"
        },
        "id": "gHn3Y2dKi_S5",
        "outputId": "b5ffd795-b583-441a-d1e8-047df7e83fa7"
      },
      "source": [
        "# part a\n",
        "for line in lines:\n",
        "  token_list = nltk.word_tokenize(line)\n",
        "  word_list = []\n",
        "  for word in token_list:\n",
        "    if word.isalnum():\n",
        "      word_list.append(word)\n",
        "  total = len(word_list)\n",
        "  cnt = 0\n",
        "  for w in word_list:\n",
        "    if w == 'data':\n",
        "      cnt += 1\n",
        "  prob = round(((cnt/total)*100),2)\n",
        "  print(\"probability of 'data' appear in line\\n'{}': \".format(line), prob, \"%\\n\")"
      ],
      "execution_count": null,
      "outputs": [
        {
          "output_type": "stream",
          "text": [
            "probability of 'data' appear in line\n",
            "'as a term, data analytics predominantly refers to an assortment of applications, from basic business intelligence (bi), reporting and online analytical processing (olap) to various forms of advanced analytics':  3.45 %\n",
            "\n",
            "probability of 'data' appear in line\n",
            "' in that sense, it's similar in nature to business analytics, another umbrella term for approaches to analyzing data -- with the difference that the latter is oriented to business uses, while data analytics has a broader focus':  5.56 %\n",
            "\n",
            "probability of 'data' appear in line\n",
            "' the expansive view of the term isn't universal, though: in some cases, people use data analytics specifically to mean advanced analytics, treating bi as a separate category':  3.7 %\n",
            "\n",
            "probability of 'data' appear in line\n",
            "' data analytics initiatives can help businesses increase revenues, improve operational efficiency, optimize marketing campaigns and customer service efforts, respond more quickly to emerging market trends and gain a competitive edge over rivals -- all with the ultimate goal of boosting business performance':  2.44 %\n",
            "\n",
            "probability of 'data' appear in line\n",
            "' depending on the particular application, the data that's analyzed can consist of either historical records or new information that has been processed for real-time analytics uses':  4.0 %\n",
            "\n",
            "probability of 'data' appear in line\n",
            "' in addition, it can come from a mix of internal systems and external data sources':  6.67 %\n",
            "\n",
            "probability of 'data' appear in line\n",
            "' at a high level, data analytics methodologies include exploratory data analysis (eda), which aims to find patterns and relationships in data, and confirmatory data analysis (cda), which applies statistical techniques to determine whether hypotheses about a data set are true or false':  11.9 %\n",
            "\n",
            "probability of 'data' appear in line\n",
            "' eda is often compared to detective work, while cda is akin to the work of a judge or jury during a court trial -- a distinction first drawn by statistician john w':  0.0 %\n",
            "\n",
            "probability of 'data' appear in line\n",
            "' tukey in his 1977 book exploratory data analysis':  12.5 %\n",
            "\n",
            "probability of 'data' appear in line\n",
            "' data analytics can also be separated into quantitative data analysis and qualitative data analysis':  21.43 %\n",
            "\n",
            "probability of 'data' appear in line\n",
            "' the former involves analysis of numerical data with quantifiable variables that can be compared or measured statistically':  5.88 %\n",
            "\n",
            "probability of 'data' appear in line\n",
            "' the qualitative approach is more interpretive -- it focuses on understanding the content of non-numerical data like text, images, audio and video, including common phrases, themes and points of view':  3.57 %\n",
            "\n"
          ],
          "name": "stdout"
        }
      ]
    },
    {
      "cell_type": "code",
      "metadata": {
        "id": "Va9djY2egawb"
      },
      "source": [
        "lines = text.split(sep='.')\n",
        "lines = lines[:-1]"
      ],
      "execution_count": null,
      "outputs": []
    },
    {
      "cell_type": "code",
      "metadata": {
        "id": "ECJ2XJ8fkVzk"
      },
      "source": [
        "import pandas as pd"
      ],
      "execution_count": null,
      "outputs": []
    },
    {
      "cell_type": "code",
      "metadata": {
        "colab": {
          "base_uri": "https://localhost:8080/",
          "height": 52
        },
        "id": "3Aqb2-cHe1Rx",
        "outputId": "a8f79de9-12f5-44c9-907a-a5b3a441e4f0"
      },
      "source": [
        "# create list of line number\n",
        "line_num = []\n",
        "for i in range(len(lines)):\n",
        "  i = i+1\n",
        "  line_num.append(\"line {}\".format(i))"
      ],
      "execution_count": null,
      "outputs": [
        {
          "output_type": "execute_result",
          "data": {
            "application/vnd.google.colaboratory.intrinsic+json": {
              "type": "string"
            },
            "text/plain": [
              "'\\n  token_list = nltk.word_tokenize(line)  \\n  word_list = []\\n  print(len(token_list))\\n\\n\\n  for word in token_list:\\n    if word.isalnum() and word not in word_list:\\n      word_list.append(word)\\n  count = len(word_list)\\n  print(\"Distinct word counts in line\\n\\'{}\\': \\n\".format(line), count, \"\\n\")\\n'"
            ]
          },
          "metadata": {
            "tags": []
          },
          "execution_count": 156
        }
      ]
    },
    {
      "cell_type": "code",
      "metadata": {
        "id": "MlVWCH13kpSJ"
      },
      "source": [
        "# create dataframe with line number and lines in text\n",
        "df = pd.DataFrame(line_num)\n",
        "df.columns = ['line_num']\n",
        "df['line'] = lines"
      ],
      "execution_count": null,
      "outputs": []
    },
    {
      "cell_type": "code",
      "metadata": {
        "colab": {
          "base_uri": "https://localhost:8080/"
        },
        "id": "2PQ9iZdtmW2w",
        "outputId": "ed2ba740-b832-4dc3-cb19-b02f2005810a"
      },
      "source": [
        "# create a list of distinct word counts\n",
        "count_list = []\n",
        "for line in lines:\n",
        "  token_list = nltk.word_tokenize(line)\n",
        "  word_list = []  \n",
        "  for word in token_list:\n",
        "    if word.isalnum() and word not in word_list:\n",
        "      word_list.append(word)\n",
        "  count = len(word_list)\n",
        "  count_list.append(count)\n",
        "  print(\"Distinct word counts in line\\n'{}': \\n\".format(line), count, \"\\n\")\n",
        "\n",
        "# add number of distinct words in each line to the dataframe\n",
        "df['count'] = count_list"
      ],
      "execution_count": null,
      "outputs": [
        {
          "output_type": "stream",
          "text": [
            "Distinct word counts in line\n",
            "'as a term, data analytics predominantly refers to an assortment of applications, from basic business intelligence (bi), reporting and online analytical processing (olap) to various forms of advanced analytics': \n",
            " 26 \n",
            "\n",
            "Distinct word counts in line\n",
            "' in that sense, it's similar in nature to business analytics, another umbrella term for approaches to analyzing data -- with the difference that the latter is oriented to business uses, while data analytics has a broader focus': \n",
            " 28 \n",
            "\n",
            "Distinct word counts in line\n",
            "' the expansive view of the term isn't universal, though: in some cases, people use data analytics specifically to mean advanced analytics, treating bi as a separate category': \n",
            " 25 \n",
            "\n",
            "Distinct word counts in line\n",
            "' data analytics initiatives can help businesses increase revenues, improve operational efficiency, optimize marketing campaigns and customer service efforts, respond more quickly to emerging market trends and gain a competitive edge over rivals -- all with the ultimate goal of boosting business performance': \n",
            " 40 \n",
            "\n",
            "Distinct word counts in line\n",
            "' depending on the particular application, the data that's analyzed can consist of either historical records or new information that has been processed for real-time analytics uses': \n",
            " 23 \n",
            "\n",
            "Distinct word counts in line\n",
            "' in addition, it can come from a mix of internal systems and external data sources': \n",
            " 15 \n",
            "\n",
            "Distinct word counts in line\n",
            "' at a high level, data analytics methodologies include exploratory data analysis (eda), which aims to find patterns and relationships in data, and confirmatory data analysis (cda), which applies statistical techniques to determine whether hypotheses about a data set are true or false': \n",
            " 33 \n",
            "\n",
            "Distinct word counts in line\n",
            "' eda is often compared to detective work, while cda is akin to the work of a judge or jury during a court trial -- a distinction first drawn by statistician john w': \n",
            " 26 \n",
            "\n",
            "Distinct word counts in line\n",
            "' tukey in his 1977 book exploratory data analysis': \n",
            " 8 \n",
            "\n",
            "Distinct word counts in line\n",
            "' data analytics can also be separated into quantitative data analysis and qualitative data analysis': \n",
            " 11 \n",
            "\n",
            "Distinct word counts in line\n",
            "' the former involves analysis of numerical data with quantifiable variables that can be compared or measured statistically': \n",
            " 17 \n",
            "\n",
            "Distinct word counts in line\n",
            "' the qualitative approach is more interpretive -- it focuses on understanding the content of non-numerical data like text, images, audio and video, including common phrases, themes and points of view': \n",
            " 25 \n",
            "\n"
          ],
          "name": "stdout"
        }
      ]
    },
    {
      "cell_type": "code",
      "metadata": {
        "colab": {
          "base_uri": "https://localhost:8080/",
          "height": 280
        },
        "id": "_y8tdJ-3m-R5",
        "outputId": "c50859c8-69ba-4fe5-da06-85e19a386df1"
      },
      "source": [
        "# bar plot to show distribution of distinct words across all the lines\n",
        "ax = df.plot.bar(x='line_num', y='count', rot=0)"
      ],
      "execution_count": null,
      "outputs": [
        {
          "output_type": "display_data",
          "data": {
            "image/png": "[encoded data removed]",
            "text/plain": [
              "<Figure size 432x288 with 1 Axes>"
            ]
          },
          "metadata": {
            "tags": [],
            "needs_background": "light"
          }
        }
      ]
    },
    {
      "cell_type": "code",
      "metadata": {
        "id": "oYKqwZRvnhK8"
      },
      "source": [
        "lines = text.split(sep='.')\n",
        "lines = lines[:-1]"
      ],
      "execution_count": null,
      "outputs": []
    },
    {
      "cell_type": "code",
      "metadata": {
        "id": "4VzvlFiy0nKu"
      },
      "source": [
        "# create list of tokens \n",
        "word_list = []\n",
        "for line in lines:\n",
        "  token_list = nltk.word_tokenize(line)\n",
        "  for word in token_list:\n",
        "    if word.isalnum():\n",
        "      word_list.append(word)\n",
        "\n",
        "# create bigrams with tokens\n",
        "bigram = list(nltk.bigrams(word_list))"
      ],
      "execution_count": null,
      "outputs": []
    },
    {
      "cell_type": "code",
      "metadata": {
        "colab": {
          "base_uri": "https://localhost:8080/"
        },
        "id": "gKyB71hi0877",
        "outputId": "2fbf869d-bc69-4f1e-dc2a-d40058e09f8d"
      },
      "source": [
        "# count the number of ('data', 'analytics') bigrams\n",
        "cnt = 0\n",
        "for grp in bigram:\n",
        "  if grp[0] == 'data' and grp[1] == 'analytics':\n",
        "    cnt += 1\n",
        "\n",
        "# calculate the probability by divided to the total number of bigrams\n",
        "print(\"probability when 'analytics' comes after 'data': \", round(((cnt/len(bigram))*100),2), \"%\")"
      ],
      "execution_count": null,
      "outputs": [
        {
          "output_type": "stream",
          "text": [
            "probability when 'analytics' comes after 'data':  1.92 %\n"
          ],
          "name": "stdout"
        }
      ]
    }
  ]
}